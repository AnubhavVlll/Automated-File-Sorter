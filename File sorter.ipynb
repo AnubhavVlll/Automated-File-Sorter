{
 "cells": [
  {
   "cell_type": "markdown",
   "id": "38bc2294-1a45-4e50-8d7f-15a0faea03ae",
   "metadata": {},
   "source": [
    "# Automatic File Sorter in MacOS Finder Folder"
   ]
  },
  {
   "cell_type": "code",
   "execution_count": 69,
   "id": "4c9c5fc9-99e9-430b-a095-f4fb04280129",
   "metadata": {},
   "outputs": [],
   "source": [
    "import os, shutil     # Import necessary modules"
   ]
  },
  {
   "cell_type": "code",
   "execution_count": 71,
   "id": "bd7320ad-ae6a-4a44-920b-91fc16bc482a",
   "metadata": {},
   "outputs": [],
   "source": [
    "\n",
    "# Set the path to the directory we want to organize\n",
    "path = r\"/Users/anubhav/Developer/Jyp test folder/\""
   ]
  },
  {
   "cell_type": "code",
   "execution_count": 73,
   "id": "335ab542-ce98-4bfe-bfa9-a4e6918dd551",
   "metadata": {},
   "outputs": [],
   "source": [
    "# Get a list of all files in the directory\n",
    "file_names = os.listdir(path)"
   ]
  },
  {
   "cell_type": "code",
   "execution_count": 77,
   "id": "b4bac67a-c90e-4fcb-ac94-8aadea998d6e",
   "metadata": {},
   "outputs": [],
   "source": [
    "\n",
    "# Define the names of folders we want to create\n",
    "folder_name = ['photos','pdfs','others'] \n",
    "\n",
    "\n",
    "# Create the folders if they don't already exist\n",
    "for loops in range(0,3):\n",
    "    if not os.path.exists(path + folder_name[loops]):\n",
    "        # Uncomment the next line to print the folder being created\n",
    "        #print(path + folder_name[loops])\n",
    "        os.makedirs(path + folder_name[loops])\n",
    "\n",
    "\n",
    "# Iterate through each file in the directory\n",
    "for file in file_names:\n",
    "    # Move PDF files to the 'pdfs' folder\n",
    "    if '.pdf' in file and not os.path.exists(path + \"pdfs/\" + file):\n",
    "        shutil.move(path + file,path + \"pdfs/\" + file)\n",
    "       # Move PNG files to the 'photos' folder  \n",
    "    elif '.png' in file and not os.path.exists(path + \"photos/\" + file):\n",
    "        shutil.move(path + file,path + \"photos/\" + file)\n",
    "    elif '.txt' in file and not os.path.exists(path + \"others/\" + file):\n",
    "        shutil.move(path + file,path + \"others/\" + file)\n",
    "    elif '.xlsx' in file and not os.path.exists(path + \"others/\" + file):\n",
    "        shutil.move(path + file,path + \"others/\" + file)    \n",
    "    "
   ]
  },
  {
   "cell_type": "code",
   "execution_count": null,
   "id": "050e626d-f9c6-4c6e-86a2-b010c7e151df",
   "metadata": {},
   "outputs": [],
   "source": []
  },
  {
   "cell_type": "code",
   "execution_count": null,
   "id": "e0ff7442-057d-414b-84f0-9be94a0e7b00",
   "metadata": {},
   "outputs": [],
   "source": []
  }
 ],
 "metadata": {
  "kernelspec": {
   "display_name": "Python 3 (ipykernel)",
   "language": "python",
   "name": "python3"
  },
  "language_info": {
   "codemirror_mode": {
    "name": "ipython",
    "version": 3
   },
   "file_extension": ".py",
   "mimetype": "text/x-python",
   "name": "python",
   "nbconvert_exporter": "python",
   "pygments_lexer": "ipython3",
   "version": "3.11.7"
  }
 },
 "nbformat": 4,
 "nbformat_minor": 5
}
